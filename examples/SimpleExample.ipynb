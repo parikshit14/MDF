{
 "cells": [
  {
   "cell_type": "markdown",
   "id": "87a95dcf",
   "metadata": {},
   "source": [
    "# Creating and excecuting MDF models\n",
    "\n",
    "This is a quick introduction to building MDF graphs and using them in different scenarios.\n",
    "\n",
    "1. **[Create a Model containing a Graph](#h1)**\n",
    "2. **[Generate a graph image from the model](#h2)**\n",
    "3. **[Execute the graph & print the output values](#h3)**\n",
    "\n",
    "\n",
    "## 1. Create a [Model](https://mdf.readthedocs.io/en/latest/api/Specification.html#model) containing a [Graph](https://mdf.readthedocs.io/en/latest/api/Specification.html#graph) <a class=\"anchor\" id=\"h1\"></a>\n"
   ]
  },
  {
   "cell_type": "code",
   "execution_count": 1,
   "id": "24aeb1e4",
   "metadata": {},
   "outputs": [],
   "source": [
    "from modeci_mdf.mdf import *\n",
    "\n",
    "# Create a model containing one graph\n",
    "mod = Model(id=\"AB\")\n",
    "mod_graph = Graph(id=\"ab_example\")\n",
    "mod.graphs.append(mod_graph)\n"
   ]
  },
  {
   "cell_type": "markdown",
   "id": "6e3424b7",
   "metadata": {},
   "source": [
    "\n",
    "### 1.1 Create the first [Node](https://mdf.readthedocs.io/en/latest/api/Specification.html#node)"
   ]
  },
  {
   "cell_type": "code",
   "execution_count": 2,
   "id": "a901b65d",
   "metadata": {},
   "outputs": [
    {
     "name": "stdout",
     "output_type": "stream",
     "text": [
      "ab_example:\n",
      "    nodes:\n",
      "        A:\n",
      "            metadata:\n",
      "                color: 0 .8 0\n",
      "            parameters:\n",
      "                level:\n",
      "                    value: 1.0\n",
      "            output_ports:\n",
      "                output:\n",
      "                    value: level\n",
      "\n"
     ]
    }
   ],
   "source": [
    "# Create a node\n",
    "a_node = Node(id=\"A\", metadata={\"color\": \"0 .8 0\"})\n",
    "\n",
    "# Add a parameter with a specific value\n",
    "a_node.parameters.append(Parameter(id=\"level\", value=1.0))\n",
    "\n",
    "# Add an output port\n",
    "a_node.output_ports.append(OutputPort(id=\"output\", value = \"level\"))\n",
    "\n",
    "# Add node to the graph\n",
    "mod_graph.nodes.append(a_node)\n",
    "\n",
    "# Print current structure as YAML\n",
    "print(mod_graph.to_yaml())"
   ]
  },
  {
   "cell_type": "markdown",
   "id": "46c51277",
   "metadata": {},
   "source": [
    "### 1.2 Create another [Node](https://mdf.readthedocs.io/en/latest/api/Specification.html#node)"
   ]
  },
  {
   "cell_type": "code",
   "execution_count": 3,
   "id": "1580a79e",
   "metadata": {},
   "outputs": [],
   "source": [
    "b_node = Node(id=\"B\", metadata={\"color\": \".8 0 0\"})\n",
    "mod_graph.nodes.append(b_node)\n",
    "\n",
    "# Add an input port\n",
    "b_node.input_ports.append(InputPort(id=\"input\"))\n",
    "\n",
    "# Add some parameters\n",
    "b_node.parameters.append(Parameter(id=\"slope\", value=1.2))\n",
    "b_node.parameters.append(Parameter(id=\"intercept\", value=3))\n",
    "\n",
    "\n",
    "# Add a parameter which used the internal parameter as well as the value from the input\n",
    "p1 = Parameter(\n",
    "    id=\"linear_func\",\n",
    "    value=\"input * slope + intercept\",\n",
    ")\n",
    "b_node.parameters.append(p1)\n",
    "\n",
    "# Add an output port\n",
    "b_node.output_ports.append(OutputPort(id=\"output\", value=\"linear_func\"))\n"
   ]
  },
  {
   "cell_type": "markdown",
   "id": "a6c98662",
   "metadata": {},
   "source": [
    "### 1.3 Create an  [Edge](https://mdf.readthedocs.io/en/latest/api/Specification.html#edge) between the [Nodes](https://mdf.readthedocs.io/en/latest/api/Specification.html#node)"
   ]
  },
  {
   "cell_type": "code",
   "execution_count": 4,
   "id": "20b8a6b7",
   "metadata": {},
   "outputs": [
    {
     "name": "stdout",
     "output_type": "stream",
     "text": [
      "ab_example:\n",
      "    nodes:\n",
      "        A:\n",
      "            metadata:\n",
      "                color: 0 .8 0\n",
      "            parameters:\n",
      "                level:\n",
      "                    value: 1.0\n",
      "            output_ports:\n",
      "                output:\n",
      "                    value: level\n",
      "        B:\n",
      "            metadata:\n",
      "                color: .8 0 0\n",
      "            input_ports:\n",
      "                input: {}\n",
      "            parameters:\n",
      "                slope:\n",
      "                    value: 1.2\n",
      "                intercept:\n",
      "                    value: 3\n",
      "                linear_func:\n",
      "                    value: input * slope + intercept\n",
      "            output_ports:\n",
      "                output:\n",
      "                    value: linear_func\n",
      "    edges:\n",
      "        edge_A_B:\n",
      "            sender: A\n",
      "            receiver: B\n",
      "            sender_port: output\n",
      "            receiver_port: input\n",
      "\n"
     ]
    }
   ],
   "source": [
    "# This helper method just adds an edge connecting the first output port of \n",
    "# the pre node to the first input port of the post node\n",
    "from modeci_mdf.utils import simple_connect\n",
    "\n",
    "e1 = simple_connect(a_node, b_node, mod_graph)\n",
    "\n",
    "# Print the current structure\n",
    "print(mod_graph.to_yaml())\n"
   ]
  },
  {
   "cell_type": "markdown",
   "id": "cdfc66f8",
   "metadata": {},
   "source": [
    "## 2. Generate a graph image from the model <a class=\"anchor\" id=\"h2\"></a>\n",
    "\n",
    "We will use a method on the model to generate an image representing the structure of the graph.\n"
   ]
  },
  {
   "cell_type": "code",
   "execution_count": 5,
   "id": "69740bde",
   "metadata": {},
   "outputs": [
    {
     "name": "stdout",
     "output_type": "stream",
     "text": [
      "Converting MDF graph: ab_example to graphviz (level: 3, format: png)\n",
      "    Node: A\n",
      "Converting 0 .8 0 to hex color\n",
      "    Node: B\n",
      "Converting .8 0 0 to hex color\n",
      "    Edge: edge_A_B connects A to B\n",
      "Written graph image to: AB.png\n"
     ]
    },
    {
     "data": {
      "image/png": "[encoded data removed]",
      "text/plain": [
       "<IPython.core.display.Image object>"
      ]
     },
     "execution_count": 5,
     "metadata": {},
     "output_type": "execute_result"
    }
   ],
   "source": [
    "mod.to_graph_image(\n",
    "        engine=\"dot\",\n",
    "        output_format=\"png\",\n",
    "        view_on_render=False,\n",
    "        level=3,\n",
    "        filename_root=\"AB\"\n",
    "    )\n",
    "\n",
    "from IPython.display import Image\n",
    "Image(filename=\"AB.png\")"
   ]
  },
  {
   "cell_type": "markdown",
   "id": "b6b8aae3",
   "metadata": {},
   "source": [
    "## 3. Execute the graph & print the output values <a class=\"anchor\" id=\"h3\"></a>\n",
    "\n",
    "The Graph is converted to an EvaluableGraph, which can be used to evaluate the current state of the graph's parameters. "
   ]
  },
  {
   "cell_type": "markdown",
   "id": "ece9b9e5",
   "metadata": {},
   "source": [
    "### 3.1 Execute the graph with the current parameter values "
   ]
  },
  {
   "cell_type": "code",
   "execution_count": 6,
   "id": "543006ef",
   "metadata": {},
   "outputs": [
    {
     "name": "stdout",
     "output_type": "stream",
     "text": [
      "\n",
      "Init graph: ab_example\n",
      "Evaluating graph: ab_example, root nodes: ['A'], with array format numpy\n",
      "Output of A: 1\n",
      "Output of B: 4.2\n"
     ]
    }
   ],
   "source": [
    "from modeci_mdf.execution_engine import EvaluableGraph\n",
    "\n",
    "eg = EvaluableGraph(mod_graph, verbose=False)\n",
    "eg.evaluate()\n",
    "\n",
    "print('Output of A: %s'%eg.enodes[\"A\"].evaluable_outputs[\"output\"].curr_value)\n",
    "print('Output of B: %s'%eg.enodes[\"B\"].evaluable_outputs[\"output\"].curr_value)"
   ]
  },
  {
   "cell_type": "markdown",
   "id": "87824063",
   "metadata": {},
   "source": [
    "### 3.2 Change a value to a Numpy array & execute the graph again"
   ]
  },
  {
   "cell_type": "code",
   "execution_count": 7,
   "id": "e9142f37",
   "metadata": {},
   "outputs": [
    {
     "name": "stdout",
     "output_type": "stream",
     "text": [
      "Evaluating graph: ab_example, root nodes: ['A'], with array format numpy\n",
      "Output of A:\n",
      "[[1 2]\n",
      " [3 4]]\n",
      "Output of B:\n",
      "[[4.2 5.4]\n",
      " [6.6 7.8]]\n"
     ]
    }
   ],
   "source": [
    "import numpy as np \n",
    "a_node.get_parameter('level').value = np.array([[1,2],[3,4]])\n",
    "\n",
    "eg.evaluate()\n",
    "\n",
    "print('Output of A:\\n%s'%eg.enodes[\"A\"].evaluable_outputs[\"output\"].curr_value)\n",
    "print('Output of B:\\n%s'%eg.enodes[\"B\"].evaluable_outputs[\"output\"].curr_value)"
   ]
  },
  {
   "cell_type": "markdown",
   "id": "7d6072b4",
   "metadata": {},
   "source": [
    "## Modification"
   ]
  },
  {
   "cell_type": "markdown",
   "id": "d39cd73c",
   "metadata": {},
   "source": [
    "### Simple calculator"
   ]
  },
  {
   "cell_type": "markdown",
   "id": "625fac31",
   "metadata": {},
   "source": [
    "This example will create a basic calculator using MDF which can perform\n",
    "1. addition\n",
    "2. subtraction\n",
    "3. multiplication\n",
    "4. division"
   ]
  },
  {
   "cell_type": "markdown",
   "id": "c7daf07b",
   "metadata": {},
   "source": [
    "**input node**"
   ]
  },
  {
   "cell_type": "code",
   "execution_count": 8,
   "id": "808d49ad",
   "metadata": {},
   "outputs": [],
   "source": [
    "from modeci_mdf.mdf import *\n",
    "\n",
    "# Create a model containing one graph\n",
    "mod = Model(id=\"calculator\")\n",
    "mod_graph = Graph(id=\"calculator\")\n",
    "\n",
    "\n",
    "mod.graphs.append(mod_graph)"
   ]
  },
  {
   "cell_type": "code",
   "execution_count": 9,
   "id": "50d5ff3d",
   "metadata": {},
   "outputs": [],
   "source": [
    "input_node = Node(id=\"input_values\")\n",
    "\n",
    "# Add parameter\n",
    "input_node.parameters.append(Parameter(id=\"input_x\"))\n",
    "input_node.parameters.append(Parameter(id=\"input_y\"))\n",
    "\n",
    "# Add an output port\n",
    "input_node.output_ports.append(OutputPort(id=\"x\", value=\"input_x\"))\n",
    "input_node.output_ports.append(OutputPort(id=\"y\", value=\"input_y\"))\n",
    "mod_graph.nodes.append(input_node)"
   ]
  },
  {
   "cell_type": "markdown",
   "id": "dd69f80a",
   "metadata": {},
   "source": [
    "1. **ADDITION**"
   ]
  },
  {
   "cell_type": "code",
   "execution_count": 10,
   "id": "84039b42",
   "metadata": {},
   "outputs": [],
   "source": [
    "# Create a node\n",
    "addition_node = Node(id=\"Addition\")\n",
    "\n",
    "# creating input node\n",
    "addition_node.input_ports.append(Parameter(id=\"x\"))\n",
    "addition_node.input_ports.append(Parameter(id=\"y\"))\n",
    "\n",
    "# Add an output port\n",
    "addition_node.output_ports.append(OutputPort(id=\"output\", value = \"x + y\"))\n",
    "\n",
    "# Add node to the graph\n",
    "mod_graph.nodes.append(addition_node)"
   ]
  },
  {
   "cell_type": "code",
   "execution_count": 11,
   "id": "d6cbeede",
   "metadata": {},
   "outputs": [],
   "source": [
    "# adding edges\n",
    "\n",
    "e1 = Edge(id=\"x-value-add\",\n",
    "        sender=\"input_values\",\n",
    "        receiver=\"Addition\",\n",
    "        sender_port=\"x\",\n",
    "        receiver_port=\"x\")\n",
    "\n",
    "e2 = Edge(id=\"y-value-add\",\n",
    "        sender=\"input_values\",\n",
    "        receiver=\"Addition\",\n",
    "        sender_port=\"y\",\n",
    "        receiver_port=\"y\")"
   ]
  },
  {
   "cell_type": "code",
   "execution_count": 12,
   "id": "88ad7a12",
   "metadata": {},
   "outputs": [],
   "source": [
    "mod_graph.edges.append(e1)\n",
    "mod_graph.edges.append(e2)"
   ]
  },
  {
   "cell_type": "markdown",
   "id": "0fead562",
   "metadata": {},
   "source": [
    "2. **SUBTRACTION**"
   ]
  },
  {
   "cell_type": "code",
   "execution_count": 13,
   "id": "cafb08ea",
   "metadata": {},
   "outputs": [],
   "source": [
    "# Create a node\n",
    "subtraction_node = Node(id=\"Subtraction\")\n",
    "\n",
    "# creating input node\n",
    "subtraction_node.input_ports.append(Parameter(id=\"x\"))\n",
    "subtraction_node.input_ports.append(Parameter(id=\"y\"))\n",
    "\n",
    "# Add an output port\n",
    "subtraction_node.output_ports.append(OutputPort(id=\"output\", value = \"x - y\"))\n",
    "\n",
    "# Add node to the graph\n",
    "mod_graph.nodes.append(subtraction_node)"
   ]
  },
  {
   "cell_type": "code",
   "execution_count": 14,
   "id": "23fc248f",
   "metadata": {},
   "outputs": [],
   "source": [
    "# adding edges\n",
    "\n",
    "e3 = Edge(id=\"x-value-sub\",\n",
    "        sender=\"input_values\",\n",
    "        receiver=\"Subtraction\",\n",
    "        sender_port=\"x\",\n",
    "        receiver_port=\"x\")\n",
    "\n",
    "e4 = Edge(id=\"y-value-sub\",\n",
    "        sender=\"input_values\",\n",
    "        receiver=\"Subtraction\",\n",
    "        sender_port=\"y\",\n",
    "        receiver_port=\"y\")"
   ]
  },
  {
   "cell_type": "code",
   "execution_count": 15,
   "id": "85da5313",
   "metadata": {},
   "outputs": [],
   "source": [
    "mod_graph.edges.append(e3)\n",
    "mod_graph.edges.append(e4)"
   ]
  },
  {
   "cell_type": "markdown",
   "id": "87af2a58",
   "metadata": {},
   "source": [
    "3. **MULTIPLICATION**"
   ]
  },
  {
   "cell_type": "code",
   "execution_count": 16,
   "id": "4e4330da",
   "metadata": {},
   "outputs": [],
   "source": [
    "# Create a node\n",
    "multiplication_node = Node(id=\"Multiplication\")\n",
    "\n",
    "# creating input node\n",
    "multiplication_node.input_ports.append(Parameter(id=\"x\"))\n",
    "multiplication_node.input_ports.append(Parameter(id=\"y\"))\n",
    "\n",
    "# Add an output port\n",
    "multiplication_node.output_ports.append(OutputPort(id=\"output\", value = \"x * y\"))\n",
    "\n",
    "# Add node to the graph\n",
    "mod_graph.nodes.append(multiplication_node)"
   ]
  },
  {
   "cell_type": "code",
   "execution_count": 17,
   "id": "6772e605",
   "metadata": {},
   "outputs": [],
   "source": [
    "# adding edges\n",
    "\n",
    "e5 = Edge(id=\"x-value-multi\",\n",
    "        sender=\"input_values\",\n",
    "        receiver=\"Multiplication\",\n",
    "        sender_port=\"x\",\n",
    "        receiver_port=\"x\")\n",
    "\n",
    "e6 = Edge(id=\"y-value-multi\",\n",
    "        sender=\"input_values\",\n",
    "        receiver=\"Multiplication\",\n",
    "        sender_port=\"y\",\n",
    "        receiver_port=\"y\")"
   ]
  },
  {
   "cell_type": "code",
   "execution_count": 18,
   "id": "c2ff26c7",
   "metadata": {},
   "outputs": [],
   "source": [
    "mod_graph.edges.append(e5)\n",
    "mod_graph.edges.append(e6)"
   ]
  },
  {
   "cell_type": "markdown",
   "id": "8afe7b76",
   "metadata": {},
   "source": [
    "4. **DIVISION**"
   ]
  },
  {
   "cell_type": "code",
   "execution_count": 19,
   "id": "88fee6b2",
   "metadata": {},
   "outputs": [],
   "source": [
    "# Create a node\n",
    "division_node = Node(id=\"Division\")\n",
    "\n",
    "# creating input node\n",
    "division_node.input_ports.append(Parameter(id=\"x\"))\n",
    "division_node.input_ports.append(Parameter(id=\"y\"))\n",
    "\n",
    "# Add an output port\n",
    "division_node.output_ports.append(OutputPort(id=\"output\", value = \"x / y\"))\n",
    "\n",
    "# Add node to the graph\n",
    "mod_graph.nodes.append(division_node)"
   ]
  },
  {
   "cell_type": "code",
   "execution_count": 20,
   "id": "25aa692b",
   "metadata": {},
   "outputs": [],
   "source": [
    "# adding edges\n",
    "\n",
    "e7 = Edge(id=\"x-value-div\",\n",
    "        sender=\"input_values\",\n",
    "        receiver=\"Division\",\n",
    "        sender_port=\"x\",\n",
    "        receiver_port=\"x\")\n",
    "\n",
    "e8 = Edge(id=\"y-value-div\",\n",
    "        sender=\"input_values\",\n",
    "        receiver=\"Division\",\n",
    "        sender_port=\"y\",\n",
    "        receiver_port=\"y\")"
   ]
  },
  {
   "cell_type": "code",
   "execution_count": 21,
   "id": "680eaa17",
   "metadata": {},
   "outputs": [],
   "source": [
    "mod_graph.edges.append(e7)\n",
    "mod_graph.edges.append(e8)"
   ]
  },
  {
   "cell_type": "markdown",
   "id": "77e07ed3",
   "metadata": {},
   "source": [
    "**PRINTING IN YAML FORMAT**"
   ]
  },
  {
   "cell_type": "code",
   "execution_count": 22,
   "id": "2b58c8d5",
   "metadata": {},
   "outputs": [
    {
     "name": "stdout",
     "output_type": "stream",
     "text": [
      "calculator:\n",
      "    nodes:\n",
      "        input_values:\n",
      "            parameters:\n",
      "                input_x: {}\n",
      "                input_y: {}\n",
      "            output_ports:\n",
      "                x:\n",
      "                    value: input_x\n",
      "                y:\n",
      "                    value: input_y\n",
      "        Addition:\n",
      "            input_ports:\n",
      "                x: {}\n",
      "                y: {}\n",
      "            output_ports:\n",
      "                output:\n",
      "                    value: x + y\n",
      "        Subtraction:\n",
      "            input_ports:\n",
      "                x: {}\n",
      "                y: {}\n",
      "            output_ports:\n",
      "                output:\n",
      "                    value: x - y\n",
      "        Multiplication:\n",
      "            input_ports:\n",
      "                x: {}\n",
      "                y: {}\n",
      "            output_ports:\n",
      "                output:\n",
      "                    value: x * y\n",
      "        Division:\n",
      "            input_ports:\n",
      "                x: {}\n",
      "                y: {}\n",
      "            output_ports:\n",
      "                output:\n",
      "                    value: x / y\n",
      "    edges:\n",
      "        x-value-add:\n",
      "            sender: input_values\n",
      "            receiver: Addition\n",
      "            sender_port: x\n",
      "            receiver_port: x\n",
      "        y-value-add:\n",
      "            sender: input_values\n",
      "            receiver: Addition\n",
      "            sender_port: y\n",
      "            receiver_port: y\n",
      "        x-value-sub:\n",
      "            sender: input_values\n",
      "            receiver: Subtraction\n",
      "            sender_port: x\n",
      "            receiver_port: x\n",
      "        y-value-sub:\n",
      "            sender: input_values\n",
      "            receiver: Subtraction\n",
      "            sender_port: y\n",
      "            receiver_port: y\n",
      "        x-value-multi:\n",
      "            sender: input_values\n",
      "            receiver: Multiplication\n",
      "            sender_port: x\n",
      "            receiver_port: x\n",
      "        y-value-multi:\n",
      "            sender: input_values\n",
      "            receiver: Multiplication\n",
      "            sender_port: y\n",
      "            receiver_port: y\n",
      "        x-value-div:\n",
      "            sender: input_values\n",
      "            receiver: Division\n",
      "            sender_port: x\n",
      "            receiver_port: x\n",
      "        y-value-div:\n",
      "            sender: input_values\n",
      "            receiver: Division\n",
      "            sender_port: y\n",
      "            receiver_port: y\n",
      "\n"
     ]
    }
   ],
   "source": [
    "print(mod_graph.to_yaml())"
   ]
  },
  {
   "cell_type": "code",
   "execution_count": 23,
   "id": "4299b6c3",
   "metadata": {},
   "outputs": [
    {
     "name": "stdout",
     "output_type": "stream",
     "text": [
      "Converting MDF graph: calculator to graphviz (level: 2, format: png)\n",
      "    Node: input_values\n",
      "    Node: Addition\n",
      "    Node: Subtraction\n",
      "    Node: Multiplication\n",
      "    Node: Division\n",
      "    Edge: x-value-add connects input_values to Addition\n",
      "    Edge: y-value-add connects input_values to Addition\n",
      "    Edge: x-value-sub connects input_values to Subtraction\n",
      "    Edge: y-value-sub connects input_values to Subtraction\n",
      "    Edge: x-value-multi connects input_values to Multiplication\n",
      "    Edge: y-value-multi connects input_values to Multiplication\n",
      "    Edge: x-value-div connects input_values to Division\n",
      "    Edge: y-value-div connects input_values to Division\n",
      "Written graph image to: Calculator.png\n"
     ]
    },
    {
     "data": {
      "image/png": "[encoded data removed]",
      "text/plain": [
       "<IPython.core.display.Image object>"
      ]
     },
     "execution_count": 23,
     "metadata": {},
     "output_type": "execute_result"
    }
   ],
   "source": [
    "mod.to_graph_image(\n",
    "        engine=\"dot\",\n",
    "        output_format=\"png\",\n",
    "        view_on_render=False,\n",
    "        filename_root=\"Calculator\"\n",
    "    )\n",
    "\n",
    "from IPython.display import Image\n",
    "Image(filename=\"Calculator.png\")"
   ]
  },
  {
   "cell_type": "code",
   "execution_count": 24,
   "id": "89c815a5",
   "metadata": {},
   "outputs": [
    {
     "name": "stdout",
     "output_type": "stream",
     "text": [
      "\n",
      "Init graph: calculator\n",
      "Evaluating graph: calculator, root nodes: ['input_values'], with array format numpy\n",
      "input x is: 6\n",
      "input y is: 2\n",
      "Output of addition: 8\n",
      "Output of subtraction: 4\n",
      "Output of multiplication: 12\n",
      "Output of division: 3\n"
     ]
    }
   ],
   "source": [
    "from modeci_mdf.execution_engine import EvaluableGraph\n",
    "import numpy as np\n",
    "\n",
    "eg = EvaluableGraph(mod_graph, verbose=False)\n",
    "input_node.get_parameter('input_x').value = 6\n",
    "input_node.get_parameter('input_y').value = 2\n",
    "\n",
    "eg.evaluate()\n",
    "\n",
    "print('input x is: %s'%eg.enodes[\"input_values\"].evaluable_outputs[\"x\"].curr_value)\n",
    "print('input y is: %s'%eg.enodes[\"input_values\"].evaluable_outputs[\"y\"].curr_value)\n",
    "\n",
    "print('Output of addition: %s'%eg.enodes[\"Addition\"].evaluable_outputs[\"output\"].curr_value)\n",
    "print('Output of subtraction: %s'%eg.enodes[\"Subtraction\"].evaluable_outputs[\"output\"].curr_value)\n",
    "print('Output of multiplication: %s'%eg.enodes[\"Multiplication\"].evaluable_outputs[\"output\"].curr_value)\n",
    "print('Output of division: %s'%eg.enodes[\"Division\"].evaluable_outputs[\"output\"].curr_value)"
   ]
  },
  {
   "cell_type": "code",
   "execution_count": null,
   "id": "580562c7",
   "metadata": {},
   "outputs": [],
   "source": []
  }
 ],
 "metadata": {
  "kernelspec": {
   "display_name": "Python 3 (ipykernel)",
   "language": "python",
   "name": "python3"
  },
  "language_info": {
   "codemirror_mode": {
    "name": "ipython",
    "version": 3
   },
   "file_extension": ".py",
   "mimetype": "text/x-python",
   "name": "python",
   "nbconvert_exporter": "python",
   "pygments_lexer": "ipython3",
   "version": "3.7.13"
  }
 },
 "nbformat": 4,
 "nbformat_minor": 5
}
